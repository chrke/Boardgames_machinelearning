{
 "cells": [
  {
   "cell_type": "markdown",
   "metadata": {},
   "source": [
    "# Board game machine learning analysis\n",
    "\n",
    "* Description\n",
    "* Dataset\n",
    "* Goal\n",
    "* General imports\n",
    "* Scikit imports\n",
    "* Data exploration & cleaning\n",
    "    * Exploring the data using k-means clustering\n",
    "* Predicting the average_rating (without splitting into test and train datasets)\n",
    "\n",
    "\n",
    "## Description\n",
    "\n",
    "Board games have been making a comeback lately, and deeper, more strategic boardgames, like Settlers of Catan have become hugely popular. A popular site where these types of board games are discussed and reviewed is BoardGameGeek. The dataset for this project contains 80000 board games and their associated review scores. The data was scraped from BoardGameGeek and compiled into CSV format by Sean Beck.\n",
    "\n",
    "This project was done as a part of my datascience learning on \n",
    "www.dataquest.io\n",
    "\n",
    "## Dataset \n",
    "\n",
    "The dataset can be found here - \n",
    "https://github.com/ThaWeatherman/scrapers/blob/master/boardgamegeek/games.csv\n",
    "\n",
    "Some of the column descriptions are - \n",
    "\n",
    "name -- name of the board game.\n",
    "\n",
    "playingtime -- the playing time (given by the manufacturer).\n",
    "\n",
    "minplaytime -- the minimum playing time (given by the manufacturer).\n",
    "\n",
    "maxplaytime -- the maximum playing time (given by the manufacturer).\n",
    "\n",
    "minage -- the minimum recommended age to play.\n",
    "\n",
    "users_rated -- the number of users who rated the game.\n",
    "\n",
    "average_rating -- the average rating given to the game by users. (0-10)\n",
    "\n",
    "total_weights -- Number of weights given by users. Weight is a subjective measure that is made up by BoardGameGeek. It's how \"deep\" or involved a game is. Here's a full explanation.\n",
    "\n",
    "average_weight -- the average of all the subjective weights (0-5).\n",
    "\n",
    "\n",
    "## Goal\n",
    "\n",
    "One interesting machine learning task for this dataset is to predict the average_rating using the other columns using various regression techniques and to measure the related errors"
   ]
  },
  {
   "cell_type": "markdown",
   "metadata": {},
   "source": [
    "## General imports"
   ]
  },
  {
   "cell_type": "code",
   "execution_count": 1,
   "metadata": {
    "collapsed": true
   },
   "outputs": [],
   "source": [
    "import numpy as np\n",
    "import pandas as pd\n",
    "import matplotlib.pyplot as plt\n",
    "import seaborn as sns\n",
    "%matplotlib inline"
   ]
  },
  {
   "cell_type": "markdown",
   "metadata": {},
   "source": [
    "## Scikit imports"
   ]
  },
  {
   "cell_type": "code",
   "execution_count": 2,
   "metadata": {
    "collapsed": true
   },
   "outputs": [],
   "source": [
    "from sklearn.cross_validation import KFold\n",
    "from sklearn.cross_validation import cross_val_score\n",
    "from sklearn.cluster import KMeans\n",
    "from sklearn.linear_model import LinearRegression\n",
    "from sklearn.metrics import mean_squared_error"
   ]
  },
  {
   "cell_type": "markdown",
   "metadata": {},
   "source": [
    "## Data exploration & cleaning"
   ]
  },
  {
   "cell_type": "markdown",
   "metadata": {},
   "source": [
    "Reading in the data"
   ]
  },
  {
   "cell_type": "code",
   "execution_count": 3,
   "metadata": {
    "collapsed": false
   },
   "outputs": [
    {
     "data": {
      "text/html": [
       "<div>\n",
       "<table border=\"1\" class=\"dataframe\">\n",
       "  <thead>\n",
       "    <tr style=\"text-align: right;\">\n",
       "      <th></th>\n",
       "      <th>id</th>\n",
       "      <th>type</th>\n",
       "      <th>name</th>\n",
       "      <th>yearpublished</th>\n",
       "      <th>minplayers</th>\n",
       "      <th>maxplayers</th>\n",
       "      <th>playingtime</th>\n",
       "      <th>minplaytime</th>\n",
       "      <th>maxplaytime</th>\n",
       "      <th>minage</th>\n",
       "      <th>users_rated</th>\n",
       "      <th>average_rating</th>\n",
       "      <th>bayes_average_rating</th>\n",
       "      <th>total_owners</th>\n",
       "      <th>total_traders</th>\n",
       "      <th>total_wanters</th>\n",
       "      <th>total_wishers</th>\n",
       "      <th>total_comments</th>\n",
       "      <th>total_weights</th>\n",
       "      <th>average_weight</th>\n",
       "    </tr>\n",
       "  </thead>\n",
       "  <tbody>\n",
       "    <tr>\n",
       "      <th>0</th>\n",
       "      <td>12333</td>\n",
       "      <td>boardgame</td>\n",
       "      <td>Twilight Struggle</td>\n",
       "      <td>2005.0</td>\n",
       "      <td>2.0</td>\n",
       "      <td>2.0</td>\n",
       "      <td>180.0</td>\n",
       "      <td>180.0</td>\n",
       "      <td>180.0</td>\n",
       "      <td>13.0</td>\n",
       "      <td>20113</td>\n",
       "      <td>8.33774</td>\n",
       "      <td>8.22186</td>\n",
       "      <td>26647</td>\n",
       "      <td>372</td>\n",
       "      <td>1219</td>\n",
       "      <td>5865</td>\n",
       "      <td>5347</td>\n",
       "      <td>2562</td>\n",
       "      <td>3.4785</td>\n",
       "    </tr>\n",
       "    <tr>\n",
       "      <th>1</th>\n",
       "      <td>120677</td>\n",
       "      <td>boardgame</td>\n",
       "      <td>Terra Mystica</td>\n",
       "      <td>2012.0</td>\n",
       "      <td>2.0</td>\n",
       "      <td>5.0</td>\n",
       "      <td>150.0</td>\n",
       "      <td>60.0</td>\n",
       "      <td>150.0</td>\n",
       "      <td>12.0</td>\n",
       "      <td>14383</td>\n",
       "      <td>8.28798</td>\n",
       "      <td>8.14232</td>\n",
       "      <td>16519</td>\n",
       "      <td>132</td>\n",
       "      <td>1586</td>\n",
       "      <td>6277</td>\n",
       "      <td>2526</td>\n",
       "      <td>1423</td>\n",
       "      <td>3.8939</td>\n",
       "    </tr>\n",
       "    <tr>\n",
       "      <th>2</th>\n",
       "      <td>102794</td>\n",
       "      <td>boardgame</td>\n",
       "      <td>Caverna: The Cave Farmers</td>\n",
       "      <td>2013.0</td>\n",
       "      <td>1.0</td>\n",
       "      <td>7.0</td>\n",
       "      <td>210.0</td>\n",
       "      <td>30.0</td>\n",
       "      <td>210.0</td>\n",
       "      <td>12.0</td>\n",
       "      <td>9262</td>\n",
       "      <td>8.28994</td>\n",
       "      <td>8.06886</td>\n",
       "      <td>12230</td>\n",
       "      <td>99</td>\n",
       "      <td>1476</td>\n",
       "      <td>5600</td>\n",
       "      <td>1700</td>\n",
       "      <td>777</td>\n",
       "      <td>3.7761</td>\n",
       "    </tr>\n",
       "    <tr>\n",
       "      <th>3</th>\n",
       "      <td>25613</td>\n",
       "      <td>boardgame</td>\n",
       "      <td>Through the Ages: A Story of Civilization</td>\n",
       "      <td>2006.0</td>\n",
       "      <td>2.0</td>\n",
       "      <td>4.0</td>\n",
       "      <td>240.0</td>\n",
       "      <td>240.0</td>\n",
       "      <td>240.0</td>\n",
       "      <td>12.0</td>\n",
       "      <td>13294</td>\n",
       "      <td>8.20407</td>\n",
       "      <td>8.05804</td>\n",
       "      <td>14343</td>\n",
       "      <td>362</td>\n",
       "      <td>1084</td>\n",
       "      <td>5075</td>\n",
       "      <td>3378</td>\n",
       "      <td>1642</td>\n",
       "      <td>4.1590</td>\n",
       "    </tr>\n",
       "    <tr>\n",
       "      <th>4</th>\n",
       "      <td>3076</td>\n",
       "      <td>boardgame</td>\n",
       "      <td>Puerto Rico</td>\n",
       "      <td>2002.0</td>\n",
       "      <td>2.0</td>\n",
       "      <td>5.0</td>\n",
       "      <td>150.0</td>\n",
       "      <td>90.0</td>\n",
       "      <td>150.0</td>\n",
       "      <td>12.0</td>\n",
       "      <td>39883</td>\n",
       "      <td>8.14261</td>\n",
       "      <td>8.04524</td>\n",
       "      <td>44362</td>\n",
       "      <td>795</td>\n",
       "      <td>861</td>\n",
       "      <td>5414</td>\n",
       "      <td>9173</td>\n",
       "      <td>5213</td>\n",
       "      <td>3.2943</td>\n",
       "    </tr>\n",
       "  </tbody>\n",
       "</table>\n",
       "</div>"
      ],
      "text/plain": [
       "       id       type                                       name  \\\n",
       "0   12333  boardgame                          Twilight Struggle   \n",
       "1  120677  boardgame                              Terra Mystica   \n",
       "2  102794  boardgame                  Caverna: The Cave Farmers   \n",
       "3   25613  boardgame  Through the Ages: A Story of Civilization   \n",
       "4    3076  boardgame                                Puerto Rico   \n",
       "\n",
       "   yearpublished  minplayers  maxplayers  playingtime  minplaytime  \\\n",
       "0         2005.0         2.0         2.0        180.0        180.0   \n",
       "1         2012.0         2.0         5.0        150.0         60.0   \n",
       "2         2013.0         1.0         7.0        210.0         30.0   \n",
       "3         2006.0         2.0         4.0        240.0        240.0   \n",
       "4         2002.0         2.0         5.0        150.0         90.0   \n",
       "\n",
       "   maxplaytime  minage  users_rated  average_rating  bayes_average_rating  \\\n",
       "0        180.0    13.0        20113         8.33774               8.22186   \n",
       "1        150.0    12.0        14383         8.28798               8.14232   \n",
       "2        210.0    12.0         9262         8.28994               8.06886   \n",
       "3        240.0    12.0        13294         8.20407               8.05804   \n",
       "4        150.0    12.0        39883         8.14261               8.04524   \n",
       "\n",
       "   total_owners  total_traders  total_wanters  total_wishers  total_comments  \\\n",
       "0         26647            372           1219           5865            5347   \n",
       "1         16519            132           1586           6277            2526   \n",
       "2         12230             99           1476           5600            1700   \n",
       "3         14343            362           1084           5075            3378   \n",
       "4         44362            795            861           5414            9173   \n",
       "\n",
       "   total_weights  average_weight  \n",
       "0           2562          3.4785  \n",
       "1           1423          3.8939  \n",
       "2            777          3.7761  \n",
       "3           1642          4.1590  \n",
       "4           5213          3.2943  "
      ]
     },
     "execution_count": 3,
     "metadata": {},
     "output_type": "execute_result"
    }
   ],
   "source": [
    "board_games = pd.read_csv(\"games.csv\")\n",
    "board_games.head()"
   ]
  },
  {
   "cell_type": "markdown",
   "metadata": {},
   "source": [
    "Checking the datatypes of all the columns"
   ]
  },
  {
   "cell_type": "code",
   "execution_count": 4,
   "metadata": {
    "collapsed": false
   },
   "outputs": [
    {
     "data": {
      "text/plain": [
       "id                        int64\n",
       "type                     object\n",
       "name                     object\n",
       "yearpublished           float64\n",
       "minplayers              float64\n",
       "maxplayers              float64\n",
       "playingtime             float64\n",
       "minplaytime             float64\n",
       "maxplaytime             float64\n",
       "minage                  float64\n",
       "users_rated               int64\n",
       "average_rating          float64\n",
       "bayes_average_rating    float64\n",
       "total_owners              int64\n",
       "total_traders             int64\n",
       "total_wanters             int64\n",
       "total_wishers             int64\n",
       "total_comments            int64\n",
       "total_weights             int64\n",
       "average_weight          float64\n",
       "dtype: object"
      ]
     },
     "execution_count": 4,
     "metadata": {},
     "output_type": "execute_result"
    }
   ],
   "source": [
    "board_games.dtypes"
   ]
  },
  {
   "cell_type": "markdown",
   "metadata": {},
   "source": [
    "Removing all the null rows. Also, checking the before and after length of the dataset"
   ]
  },
  {
   "cell_type": "code",
   "execution_count": 5,
   "metadata": {
    "collapsed": false
   },
   "outputs": [
    {
     "name": "stdout",
     "output_type": "stream",
     "text": [
      "---Length of the dataset before dropping null rows---\n",
      "\n",
      "81312\n",
      "\n",
      "---Length of the dataset after dropping null rows---\n",
      "\n",
      "81268\n"
     ]
    }
   ],
   "source": [
    "print(\"---Length of the dataset before dropping null rows---\\n\")\n",
    "print(len(board_games))\n",
    "\n",
    "# dropping null values\n",
    "board_games.dropna(axis=0,inplace=True)\n",
    "\n",
    "print(\"\\n---Length of the dataset after dropping null rows---\\n\")\n",
    "print(len(board_games))"
   ]
  },
  {
   "cell_type": "markdown",
   "metadata": {},
   "source": [
    "Also dropping the rows that have users_rated value put to 0 since that means these games have no reviews"
   ]
  },
  {
   "cell_type": "code",
   "execution_count": 6,
   "metadata": {
    "collapsed": false
   },
   "outputs": [
    {
     "name": "stdout",
     "output_type": "stream",
     "text": [
      "---Length of the dataset after dropping games with no reviews---\n",
      "\n",
      "56894\n"
     ]
    }
   ],
   "source": [
    "board_games = board_games[board_games[\"users_rated\"] != 0]\n",
    "print(\"---Length of the dataset after dropping games with no reviews---\\n\")\n",
    "print(len(board_games))"
   ]
  },
  {
   "cell_type": "markdown",
   "metadata": {},
   "source": [
    "Plotting a histogram of the average_rating column "
   ]
  },
  {
   "cell_type": "code",
   "execution_count": 7,
   "metadata": {
    "collapsed": false
   },
   "outputs": [
    {
     "data": {
      "text/plain": [
       "<matplotlib.axes._subplots.AxesSubplot at 0x279ecf0c518>"
      ]
     },
     "execution_count": 7,
     "metadata": {},
     "output_type": "execute_result"
    },
    {
     "data": {
      "image/png": "[encoded data removed]",
      "text/plain": [
       "<matplotlib.figure.Figure at 0x279eceeff60>"
      ]
     },
     "metadata": {},
     "output_type": "display_data"
    }
   ],
   "source": [
    "board_games[\"average_rating\"].hist()"
   ]
  },
  {
   "cell_type": "markdown",
   "metadata": {},
   "source": [
    "Printing out the mean and the standard deviation of the average_rating column"
   ]
  },
  {
   "cell_type": "code",
   "execution_count": 8,
   "metadata": {
    "collapsed": false
   },
   "outputs": [
    {
     "name": "stdout",
     "output_type": "stream",
     "text": [
      "---Mean average rating---\n",
      "\n",
      "6.016112849333889\n",
      "\n",
      "---Standard deviation of the average rating---\n",
      "\n",
      "1.5788160595839211\n"
     ]
    }
   ],
   "source": [
    "print(\"---Mean average rating---\\n\")\n",
    "print(np.mean(board_games[\"average_rating\"]))\n",
    "\n",
    "print(\"\\n---Standard deviation of the average rating---\\n\")\n",
    "print(np.std(board_games[\"average_rating\"]))"
   ]
  },
  {
   "cell_type": "markdown",
   "metadata": {},
   "source": [
    "### Exploring the data using K-means clustering"
   ]
  },
  {
   "cell_type": "code",
   "execution_count": 9,
   "metadata": {
    "collapsed": false
   },
   "outputs": [],
   "source": [
    "# initiating the model with 5 clusters\n",
    "kmeans_model = KMeans(n_clusters=5, random_state=1)\n",
    "\n",
    "# singling out all the numeric columns in the dataset\n",
    "numeric_columns = board_games.iloc[:,3:]\n",
    "numeric_columns.head()\n",
    "\n",
    "# fitting the model over these columns\n",
    "kmeans_model.fit(numeric_columns)\n",
    "\n",
    "# extracting the labels \n",
    "labels = kmeans_model.labels_"
   ]
  },
  {
   "cell_type": "markdown",
   "metadata": {},
   "source": [
    "Now to plot the cluster map, we are going to calculate the mean and the standard deviation of each row in the dataset"
   ]
  },
  {
   "cell_type": "code",
   "execution_count": null,
   "metadata": {
    "collapsed": false
   },
   "outputs": [],
   "source": [
    "game_mean = numeric_columns.apply(np.mean,axis=1)\n",
    "game_std = numeric_columns.apply(np.std,axis=1)\n",
    "\n",
    "# plotting the map\n",
    "plt.scatter(game_mean,game_std,c=labels,cmap='cool')\n",
    "plt.show()"
   ]
  },
  {
   "cell_type": "markdown",
   "metadata": {},
   "source": [
    "As we can see from the cluster diagrame, we can see that most of the games are clustered at a small space. This could mean that they are mostly similar in key statistics like owners, wanters, ratings, wishers etc which hint at the popularity of the game.\n",
    "\n",
    "As the values increase (which means as the games become higher in ratings and the number of users), we can see that there are fewer and fewer such games. Majority of the games don't have as many users"
   ]
  },
  {
   "cell_type": "markdown",
   "metadata": {},
   "source": [
    "## Predicting the average_rating (without splitting into test and train datasets)"
   ]
  },
  {
   "cell_type": "code",
   "execution_count": null,
   "metadata": {
    "collapsed": false
   },
   "outputs": [],
   "source": [
    "# exploring the correlation that the \"average_rating\" column has with other columns\n",
    "numeric_columns.corr()[\"average_rating\"]"
   ]
  },
  {
   "cell_type": "markdown",
   "metadata": {},
   "source": [
    "The columns that seem to have a decently high correlation with the average rating are - \n",
    "\n",
    "1) year published -> positive correlation. More recent the game, more average rating it seems to carry\n",
    "\n",
    "2) minage -> positive correlation. Higher the minimum age, higher it seems to be rated\n",
    "\n",
    "3) users_rated -> this seems to be an obvious correlation\n",
    "\n",
    "4) total_owners, total_traders, total_wanters, total_wishers, total_comments -> all seem to be have an obvious correlation with the average rating\n",
    "\n",
    "5) average_weight -> positive correlation -> the more involved the game is, the higher it seems to be rated\n",
    "\n",
    "6) Bayes average weight -> this has a high correlation. This also seems to be derived from the average rating. It could cause overfitting"
   ]
  },
  {
   "cell_type": "code",
   "execution_count": null,
   "metadata": {
    "collapsed": true
   },
   "outputs": [],
   "source": [
    "# initializing the linear regression\n",
    "reg = LinearRegression()\n",
    "\n",
    "# removing the average rating the bayes average rating columns\n",
    "col = list(numeric_columns.columns)\n",
    "col.remove('average_rating')\n",
    "col.remove('bayes_average_rating')\n",
    "\n",
    "# fitting the regression model\n",
    "reg.fit(board_games[col],board_games[\"average_rating\"])\n",
    "\n",
    "# making the predictions\n",
    "predictions = reg.predict(board_games[col])\n",
    "\n",
    "# calculating the error\n",
    "error = mean_squared_error(board_games[\"average_rating\"],predictions)\n",
    "print(error)"
   ]
  },
  {
   "cell_type": "markdown",
   "metadata": {},
   "source": [
    "The error rate is close to the standard deviation of all board game ratings. This indicates that our model may not have high predictive power. We'll need to dig more into which games were scored well, and which ones weren't."
   ]
  },
  {
   "cell_type": "markdown",
   "metadata": {},
   "source": []
  },
  {
   "cell_type": "code",
   "execution_count": null,
   "metadata": {
    "collapsed": true
   },
   "outputs": [],
   "source": []
  },
  {
   "cell_type": "code",
   "execution_count": null,
   "metadata": {
    "collapsed": false
   },
   "outputs": [],
   "source": []
  },
  {
   "cell_type": "code",
   "execution_count": null,
   "metadata": {
    "collapsed": true
   },
   "outputs": [],
   "source": []
  },
  {
   "cell_type": "code",
   "execution_count": null,
   "metadata": {
    "collapsed": false
   },
   "outputs": [],
   "source": []
  },
  {
   "cell_type": "code",
   "execution_count": null,
   "metadata": {
    "collapsed": false
   },
   "outputs": [],
   "source": []
  },
  {
   "cell_type": "markdown",
   "metadata": {},
   "source": []
  },
  {
   "cell_type": "code",
   "execution_count": null,
   "metadata": {
    "collapsed": true
   },
   "outputs": [],
   "source": []
  }
 ],
 "metadata": {
  "kernelspec": {
   "display_name": "Python [Root]",
   "language": "python",
   "name": "Python [Root]"
  },
  "language_info": {
   "codemirror_mode": {
    "name": "ipython",
    "version": 3
   },
   "file_extension": ".py",
   "mimetype": "text/x-python",
   "name": "python",
   "nbconvert_exporter": "python",
   "pygments_lexer": "ipython3",
   "version": "3.5.2"
  }
 },
 "nbformat": 4,
 "nbformat_minor": 0
}
